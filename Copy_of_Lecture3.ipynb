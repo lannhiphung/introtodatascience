{
  "nbformat": 4,
  "nbformat_minor": 0,
  "metadata": {
    "colab": {
      "name": "Copy of intro1.ipynb",
      "version": "0.3.2",
      "provenance": [],
      "include_colab_link": true
    },
    "kernelspec": {
      "display_name": "Python 3",
      "language": "python",
      "name": "python3"
    }
  },
  "cells": [
    {
      "cell_type": "markdown",
      "metadata": {
        "id": "view-in-github",
        "colab_type": "text"
      },
      "source": [
        "<a href=\"https://colab.research.google.com/github/lannhiphung/introtodatascience/blob/master/Copy_of_Lecture3.ipynb\" target=\"_parent\"><img src=\"https://colab.research.google.com/assets/colab-badge.svg\" alt=\"Open In Colab\"/></a>"
      ]
    },
    {
      "metadata": {
        "nbpresent": {
          "id": "dc7a1635-0bbd-4bf7-a07e-7a36f58e258b"
        },
        "id": "cyJOXhMC2C0a",
        "colab_type": "text"
      },
      "cell_type": "markdown",
      "source": [
        "# An introduction to solving biological problems with Python: 1"
      ]
    },
    {
      "metadata": {
        "nbpresent": {
          "id": "21082cb9-e1b9-4fe9-80d5-9d9e8418937b"
        },
        "id": "7MTnqyqW2C0m",
        "colab_type": "text"
      },
      "cell_type": "markdown",
      "source": [
        "## Learning objectives\n",
        "- **Recall** how to print, create variables and save Python code in files\n",
        "- **List** the most common data types in Python\n",
        "- **Explain** how to use different type of collections\n",
        "- **Use and compare** these concepts in different code examples \n",
        "- **Propose and create** solutions using these concepts in different exercises"
      ]
    },
    {
      "metadata": {
        "id": "WF2Hs1fd2C0t",
        "colab_type": "text"
      },
      "cell_type": "markdown",
      "source": [
        "# Part 1.1: Variables\n",
        "\n",
        "-----\n",
        "\n",
        " - Printing values\n",
        " - Using variables\n",
        "\n"
      ]
    },
    {
      "metadata": {
        "id": "QY3dQgsA2C0x",
        "colab_type": "text"
      },
      "cell_type": "markdown",
      "source": [
        "## Printing values\n",
        "\n",
        "The first bit of python syntax we're going to learn is the <tt>print</tt> statement. This command lets us print messages to the user, and also to see what Python thinks is the value of some expression (very useful when debugging your programs).\n",
        "\n",
        "We will go into details later on, but for now just note that to print some text you have to enclose it in  \"quotation marks\". \n",
        "\n",
        "We will go into detail on the arithmetic operations supported in python shortly, but you can try exploring python's calculating abilities."
      ]
    },
    {
      "metadata": {
        "id": "dzj3XHvw2C03",
        "colab_type": "code",
        "outputId": "14d75235-38a4-4865-8bd3-09815d28fa74",
        "colab": {
          "base_uri": "https://localhost:8080/",
          "height": 34
        }
      },
      "cell_type": "code",
      "source": [
        "print(\"Hello from python!\")"
      ],
      "execution_count": 0,
      "outputs": [
        {
          "output_type": "stream",
          "text": [
            "Hello from python!\n"
          ],
          "name": "stdout"
        }
      ]
    },
    {
      "metadata": {
        "id": "NCWQ0DpH2C1L",
        "colab_type": "code",
        "outputId": "c032f71a-ab29-4871-a591-914ffadd62f1",
        "colab": {
          "base_uri": "https://localhost:8080/",
          "height": 34
        }
      },
      "cell_type": "code",
      "source": [
        "print(34)"
      ],
      "execution_count": 0,
      "outputs": [
        {
          "output_type": "stream",
          "text": [
            "34\n"
          ],
          "name": "stdout"
        }
      ]
    },
    {
      "metadata": {
        "id": "nnJJQiZ42C1X",
        "colab_type": "code",
        "outputId": "280b0e83-455a-44f2-9d42-dc059c1388a7",
        "colab": {
          "base_uri": "https://localhost:8080/",
          "height": 34
        }
      },
      "cell_type": "code",
      "source": [
        "print(2 + 3)"
      ],
      "execution_count": 0,
      "outputs": [
        {
          "output_type": "stream",
          "text": [
            "5\n"
          ],
          "name": "stdout"
        }
      ]
    },
    {
      "metadata": {
        "id": "S92DFN5v2C1j",
        "colab_type": "text"
      },
      "cell_type": "markdown",
      "source": [
        "You can print  multiple expressions you need to seperate them with commas. Python will insert a space between each element, and a newline at the end of the message (though you can suppress this behaviour by leaving a trailing comma at the end of the command)."
      ]
    },
    {
      "metadata": {
        "id": "VF-laLTX2C1o",
        "colab_type": "code",
        "outputId": "419e18ec-9ce6-4f34-9c50-f4999478384b",
        "colab": {
          "base_uri": "https://localhost:8080/",
          "height": 34
        }
      },
      "cell_type": "code",
      "source": [
        "print(\"The answer:\", 42)"
      ],
      "execution_count": 0,
      "outputs": [
        {
          "output_type": "stream",
          "text": [
            "The answer: 42\n"
          ],
          "name": "stdout"
        }
      ]
    },
    {
      "metadata": {
        "id": "jIWBXYs-2C1z",
        "colab_type": "text"
      },
      "cell_type": "markdown",
      "source": [
        "## Exercises 1.1.1\n",
        "\n",
        "1. In Jupyter, insert a new cell below this one to print your name. Execute the code by pressing `run cell` from the menu bar or use your keyboard `Ctrl-Enter`.\n",
        "2. Do now the same using the interpreter"
      ]
    },
    {
      "metadata": {
        "id": "koDPriex2C13",
        "colab_type": "text"
      },
      "cell_type": "markdown",
      "source": [
        "## Using variables"
      ]
    },
    {
      "metadata": {
        "id": "COSJKJ2S2C17",
        "colab_type": "text"
      },
      "cell_type": "markdown",
      "source": [
        "In the <tt>print</tt> commands above we have directly operated on values such as text strings and numbers. When programming we will typically want to deal with rather more complex expressions where it is useful to be able to assign a name to an expression, especially if we are trying to deal with multiple values at the same time.\n",
        "\n",
        "We can give a name to a value using _variables_, the name is apt because the values stored in a variable can _vary_. Unlike some other languages, the type of value assigned to a variable can also change (this is one of the reasons why python is known as a _dynamic_ language).\n",
        "\n",
        "A variable can be assigned to a simple value..."
      ]
    },
    {
      "metadata": {
        "id": "dLOr5vm32C2B",
        "colab_type": "code",
        "outputId": "9d38871e-2b81-4d0b-aab9-dbb4009291c8",
        "colab": {
          "base_uri": "https://localhost:8080/",
          "height": 34
        }
      },
      "cell_type": "code",
      "source": [
        "x = 3\n",
        "print(x)"
      ],
      "execution_count": 0,
      "outputs": [
        {
          "output_type": "stream",
          "text": [
            "3\n"
          ],
          "name": "stdout"
        }
      ]
    },
    {
      "metadata": {
        "id": "Tju-UFOZ2C2N",
        "colab_type": "text"
      },
      "cell_type": "markdown",
      "source": [
        "... or the outcome of a more complex expression."
      ]
    },
    {
      "metadata": {
        "id": "lgRDudUP2C2Q",
        "colab_type": "code",
        "outputId": "be7a4b5f-f8f4-4eb9-d673-a676531d072f",
        "colab": {
          "base_uri": "https://localhost:8080/",
          "height": 34
        }
      },
      "cell_type": "code",
      "source": [
        "x = 2 + 2\n",
        "print(x)"
      ],
      "execution_count": 0,
      "outputs": [
        {
          "output_type": "stream",
          "text": [
            "4\n"
          ],
          "name": "stdout"
        }
      ]
    },
    {
      "metadata": {
        "id": "fTJAjtSa2C2c",
        "colab_type": "text"
      },
      "cell_type": "markdown",
      "source": [
        "A variable can be called whatever you like (as long as it starts with a character, it does not contain space and is meaningful) and you assign a value to a variable with the **`=` operator**. Note that this is different to mathematical equality (which we will come to later...)\n",
        "\n",
        "You can <tt>print</tt> a variable to see what python thinks its current value is."
      ]
    },
    {
      "metadata": {
        "id": "MHjYXmNG2C2f",
        "colab_type": "code",
        "outputId": "66a28538-949c-4ca4-c9d3-26a39d86bed7",
        "colab": {
          "base_uri": "https://localhost:8080/",
          "height": 51
        }
      },
      "cell_type": "code",
      "source": [
        "serine = \"TCA\"\n",
        "print(serine, \"codes for serine\")\n",
        "serine = \"TCG\"\n",
        "print(\"as does\", serine)"
      ],
      "execution_count": 0,
      "outputs": [
        {
          "output_type": "stream",
          "text": [
            "TCA codes for serine\n",
            "as does TCG\n"
          ],
          "name": "stdout"
        }
      ]
    },
    {
      "metadata": {
        "id": "I9gNd--K2C2p",
        "colab_type": "text"
      },
      "cell_type": "markdown",
      "source": [
        "In the interactive interpreter you don't have to <tt>print</tt> everything, if you type a variable name (or just a value), the interpreter will automatically print out what python thinks the value is. Note though that this is not the case if your code is in a file."
      ]
    },
    {
      "metadata": {
        "id": "hiDJ-0qO2C2u",
        "colab_type": "code",
        "outputId": "08418f69-0227-4edf-e3f0-564053b0e763",
        "colab": {
          "base_uri": "https://localhost:8080/",
          "height": 34
        }
      },
      "cell_type": "code",
      "source": [
        "3 + 4"
      ],
      "execution_count": 0,
      "outputs": [
        {
          "output_type": "execute_result",
          "data": {
            "text/plain": [
              "7"
            ]
          },
          "metadata": {
            "tags": []
          },
          "execution_count": 8
        }
      ]
    },
    {
      "metadata": {
        "id": "y8VvXw2w2C25",
        "colab_type": "code",
        "outputId": "2eacc808-7e50-42ae-b3ec-badc3e195759",
        "colab": {
          "base_uri": "https://localhost:8080/",
          "height": 34
        }
      },
      "cell_type": "code",
      "source": [
        "x = 5\n",
        "3 * x"
      ],
      "execution_count": 0,
      "outputs": [
        {
          "output_type": "execute_result",
          "data": {
            "text/plain": [
              "15"
            ]
          },
          "metadata": {
            "tags": []
          },
          "execution_count": 9
        }
      ]
    },
    {
      "metadata": {
        "id": "BEyehB2f2C3G",
        "colab_type": "text"
      },
      "cell_type": "markdown",
      "source": [
        "Variables can be used on the right hand side of an assignment as well, in which case they will be evaluated before the value is assigned to the variable on the left hand side."
      ]
    },
    {
      "metadata": {
        "id": "ibaK7pEz2C3L",
        "colab_type": "code",
        "outputId": "6271f50f-db90-4936-87af-ec3fa2357606",
        "colab": {
          "base_uri": "https://localhost:8080/",
          "height": 34
        }
      },
      "cell_type": "code",
      "source": [
        "x = 5\n",
        "y = x * 3\n",
        "print(y)"
      ],
      "execution_count": 0,
      "outputs": [
        {
          "output_type": "stream",
          "text": [
            "15\n"
          ],
          "name": "stdout"
        }
      ]
    },
    {
      "metadata": {
        "id": "W1HDRfIh2C3W",
        "colab_type": "text"
      },
      "cell_type": "markdown",
      "source": [
        "or just `y` in the interpreter and in Jupyter notebook"
      ]
    },
    {
      "metadata": {
        "id": "MQA5TgKP2C3a",
        "colab_type": "code",
        "outputId": "cf3245cf-6057-4049-8893-a8c5195f53dd",
        "colab": {
          "base_uri": "https://localhost:8080/",
          "height": 34
        }
      },
      "cell_type": "code",
      "source": [
        "y"
      ],
      "execution_count": 0,
      "outputs": [
        {
          "output_type": "execute_result",
          "data": {
            "text/plain": [
              "15"
            ]
          },
          "metadata": {
            "tags": []
          },
          "execution_count": 11
        }
      ]
    },
    {
      "metadata": {
        "id": "K-k1Aa0b2C3r",
        "colab_type": "text"
      },
      "cell_type": "markdown",
      "source": [
        "You can use the current value of a variable itself in an assignment"
      ]
    },
    {
      "metadata": {
        "id": "Zm2Qp7OC2C3w",
        "colab_type": "code",
        "outputId": "ccc85278-dfce-4b00-9a9e-8ab477ecdafe",
        "colab": {
          "base_uri": "https://localhost:8080/",
          "height": 34
        }
      },
      "cell_type": "code",
      "source": [
        "y = y + 1\n",
        "y"
      ],
      "execution_count": 0,
      "outputs": [
        {
          "output_type": "execute_result",
          "data": {
            "text/plain": [
              "16"
            ]
          },
          "metadata": {
            "tags": []
          },
          "execution_count": 12
        }
      ]
    },
    {
      "metadata": {
        "id": "L7-CyprB2C39",
        "colab_type": "text"
      },
      "cell_type": "markdown",
      "source": [
        "In fact this is such a common idiom that there are special operators that will do this implicitly (more on these later)"
      ]
    },
    {
      "metadata": {
        "id": "TrH9JMLQ2C4C",
        "colab_type": "code",
        "outputId": "ac1c0dfa-8b5c-45d7-9f66-be545cf9077f",
        "colab": {
          "base_uri": "https://localhost:8080/",
          "height": 34
        }
      },
      "cell_type": "code",
      "source": [
        "y += 1\n",
        "y"
      ],
      "execution_count": 0,
      "outputs": [
        {
          "output_type": "execute_result",
          "data": {
            "text/plain": [
              "17"
            ]
          },
          "metadata": {
            "tags": []
          },
          "execution_count": 13
        }
      ]
    },
    {
      "metadata": {
        "id": "g0RGrHsn2C4a",
        "colab_type": "text"
      },
      "cell_type": "markdown",
      "source": [
        "## Exercises 1.1.2\n",
        "\n",
        "In the interpreter:\n",
        "\n",
        "1. Create a variable and assign it the string value of your first name, assign your age to another variable (you are free to lie!), print out a message saying how old you are\n",
        "2. Use the addition operator to add 10 to your age and print out a message saying how old you will be in 10 years time"
      ]
    },
    {
      "metadata": {
        "id": "ozxIgV-R2C4f",
        "colab_type": "text"
      },
      "cell_type": "markdown",
      "source": [
        "# Part 1.2: Simple data types\n",
        "\n",
        "-----\n",
        "\n",
        " - Simple data types\n",
        " - Comments\n",
        " - Arithmetic\n"
      ]
    },
    {
      "metadata": {
        "id": "XRieH0TI2C4l",
        "colab_type": "text"
      },
      "cell_type": "markdown",
      "source": [
        "## Simple data types"
      ]
    },
    {
      "metadata": {
        "id": "9bKpwb962C4o",
        "colab_type": "text"
      },
      "cell_type": "markdown",
      "source": [
        "Python (and computers in general) treats different types of data differently. Python has 4 main basic data types. Types are useful to constrain some operations to a certain category of variables. For example it doesn't really make sense to try to divide a string.\n",
        "\n",
        "We will see some examples of these in use shortly, but for now let's see all of the basic types available in python."
      ]
    },
    {
      "metadata": {
        "id": "25xfwWa12C4s",
        "colab_type": "text"
      },
      "cell_type": "markdown",
      "source": [
        "### Integers\n",
        "\n",
        "Integers represent whole numbers, as you would use when counting items, and can be positive or negative."
      ]
    },
    {
      "metadata": {
        "id": "03vCRYH42C4v",
        "colab_type": "code",
        "outputId": "d28b77aa-d179-48ca-ca39-da03efe9c792",
        "colab": {
          "base_uri": "https://localhost:8080/",
          "height": 34
        }
      },
      "cell_type": "code",
      "source": [
        "i = -7\n",
        "j = 123\n",
        "print(i, j)"
      ],
      "execution_count": 0,
      "outputs": [
        {
          "output_type": "stream",
          "text": [
            "-7 123\n"
          ],
          "name": "stdout"
        }
      ]
    },
    {
      "metadata": {
        "id": "dbk2174L2C44",
        "colab_type": "text"
      },
      "cell_type": "markdown",
      "source": [
        "### Floats\n",
        "\n",
        "Floating point numbers, often simply referred to as <tt>float</tt>s, are numbers expressed in the decimal system, i.e. 2.1, 999.998, -0.000004 etc. The value 2.0 would also be interpreted as a floating point number, but the value 2, without the decimal point will not; it will be interpreted as an integer."
      ]
    },
    {
      "metadata": {
        "id": "qtij-rU52C47",
        "colab_type": "code",
        "outputId": "812695c4-96bf-4b8b-ee29-3955db61d884",
        "colab": {
          "base_uri": "https://localhost:8080/",
          "height": 34
        }
      },
      "cell_type": "code",
      "source": [
        "x = 3.14159\n",
        "y = -42.3\n",
        "print(x * y)"
      ],
      "execution_count": 0,
      "outputs": [
        {
          "output_type": "stream",
          "text": [
            "-132.889257\n"
          ],
          "name": "stdout"
        }
      ]
    },
    {
      "metadata": {
        "id": "37_wrVfo2C5F",
        "colab_type": "text"
      },
      "cell_type": "markdown",
      "source": [
        "Floating point numbers can also carry an <tt>e</tt> suffix that states which power of ten they operate at."
      ]
    },
    {
      "metadata": {
        "id": "2EwCyLlD2C5J",
        "colab_type": "code",
        "outputId": "188b1eac-0dcc-473a-e317-b8d3f5c8039c",
        "colab": {
          "base_uri": "https://localhost:8080/",
          "height": 51
        }
      },
      "cell_type": "code",
      "source": [
        "k = 1.5e3\n",
        "l = 3e-2\n",
        "print(k)\n",
        "print(l)"
      ],
      "execution_count": 0,
      "outputs": [
        {
          "output_type": "stream",
          "text": [
            "1500.0\n",
            "0.03\n"
          ],
          "name": "stdout"
        }
      ]
    },
    {
      "metadata": {
        "id": "whXBcFGe2C5U",
        "colab_type": "text"
      },
      "cell_type": "markdown",
      "source": [
        "### Strings\n",
        "\n",
        "Strings represent text, i.e. \"strings\" of characters. They can be delimited by single quotes <tt>‘</tt> or double quotes <tt>“</tt>, but you have to use the same delimiter at both ends. Unlike some programming languages, such as Perl, there is no difference between the two types of quote, although using one type does allow the other type to appear inside the string as a regular character.\n",
        "\n",
        "Normally a python statement ends at the end of the line, but if you want to type a string over several lines you can enclose it in triple quotation marks."
      ]
    },
    {
      "metadata": {
        "id": "52wslUR-2C5Y",
        "colab_type": "code",
        "outputId": "7296d394-0586-449d-f95f-dc1263cca799",
        "colab": {
          "base_uri": "https://localhost:8080/",
          "height": 51
        }
      },
      "cell_type": "code",
      "source": [
        "s = \"ATGTCGTCTACAACACT\"\n",
        "t = 'Serine'\n",
        "u = \"It's a string with apostrophes\"\n",
        "v = \"\"\"A string that extends\n",
        "over multiple lines\"\"\"\n",
        "print(v)"
      ],
      "execution_count": 0,
      "outputs": [
        {
          "output_type": "stream",
          "text": [
            "A string that extends\n",
            "over multiple lines\n"
          ],
          "name": "stdout"
        }
      ]
    },
    {
      "metadata": {
        "id": "EFmsSsvC2C5i",
        "colab_type": "text"
      },
      "cell_type": "markdown",
      "source": [
        "### Booleans\n",
        "\n",
        "Boolean values represent truth or falsehood, as used in logical operations, for example. Not surprisingly, there are only two values, and in Python they are called <tt>True</tt> and <tt>False</tt>."
      ]
    },
    {
      "metadata": {
        "id": "DJBobL0o2C5n",
        "colab_type": "code",
        "outputId": "25d71c13-9325-4803-c7c2-a71ad8d6088a",
        "colab": {
          "base_uri": "https://localhost:8080/",
          "height": 34
        }
      },
      "cell_type": "code",
      "source": [
        "a = True\n",
        "b = False\n",
        "print(a, b)"
      ],
      "execution_count": 0,
      "outputs": [
        {
          "output_type": "stream",
          "text": [
            "True False\n"
          ],
          "name": "stdout"
        }
      ]
    },
    {
      "metadata": {
        "id": "lWRQhhOm2C5z",
        "colab_type": "text"
      },
      "cell_type": "markdown",
      "source": [
        "### The <tt>None</tt> object\n",
        "\n",
        "The None object is special built-in value which can be thought of as **representing nothingness or that something is undefined**. For example, it can be used to indicate that a variable exists, but has not yet been set to anything specific."
      ]
    },
    {
      "metadata": {
        "id": "jnN6MHpO2C53",
        "colab_type": "code",
        "outputId": "28934ee9-672c-4129-ab71-e7a04e8f3309",
        "colab": {
          "base_uri": "https://localhost:8080/",
          "height": 34
        }
      },
      "cell_type": "code",
      "source": [
        "z = None\n",
        "print(z)"
      ],
      "execution_count": 0,
      "outputs": [
        {
          "output_type": "stream",
          "text": [
            "None\n"
          ],
          "name": "stdout"
        }
      ]
    },
    {
      "metadata": {
        "id": "yo7_seHU2C6I",
        "colab_type": "text"
      },
      "cell_type": "markdown",
      "source": [
        "### Object type\n",
        "\n",
        "You can check what type python thinks an expression is with the <tt>type</tt> function, which you can call with the name <tt>type</tt> immediately followed by parentheses enclosing the expression you want to check (either a variable or a value), e.g. <tt>type(3)</tt>. (This is the general form for calling functions, we'll see lots more examples of functions later...)"
      ]
    },
    {
      "metadata": {
        "id": "sDkw_sBN2C6N",
        "colab_type": "code",
        "outputId": "94af642d-95a2-4500-ea76-0983463b374b",
        "colab": {
          "base_uri": "https://localhost:8080/",
          "height": 34
        }
      },
      "cell_type": "code",
      "source": [
        "a = True\n",
        "print(a, \"is of\", type(a))"
      ],
      "execution_count": 0,
      "outputs": [
        {
          "output_type": "stream",
          "text": [
            "True is of <class 'bool'>\n"
          ],
          "name": "stdout"
        }
      ]
    },
    {
      "metadata": {
        "id": "GhnQGZK02C6h",
        "colab_type": "code",
        "outputId": "bce246fd-9563-4441-abde-86b302a0d607",
        "colab": {
          "base_uri": "https://localhost:8080/",
          "height": 34
        }
      },
      "cell_type": "code",
      "source": [
        "i = -7\n",
        "print(i, \"is of\", type(i))"
      ],
      "execution_count": 0,
      "outputs": [
        {
          "output_type": "stream",
          "text": [
            "-7 is of <class 'int'>\n"
          ],
          "name": "stdout"
        }
      ]
    },
    {
      "metadata": {
        "id": "dbXtwbTz2C62",
        "colab_type": "code",
        "outputId": "72bd35f4-14e5-4b67-b566-82ce26e7dde2",
        "colab": {
          "base_uri": "https://localhost:8080/",
          "height": 34
        }
      },
      "cell_type": "code",
      "source": [
        "x = 12.7893\n",
        "print(x, \"is of\", type(x))"
      ],
      "execution_count": 0,
      "outputs": [
        {
          "output_type": "stream",
          "text": [
            "12.7893 is of <class 'float'>\n"
          ],
          "name": "stdout"
        }
      ]
    },
    {
      "metadata": {
        "id": "vk_2SgwW2C7A",
        "colab_type": "code",
        "outputId": "8db83d12-4a5f-456b-aa1f-12ef81d2c800",
        "colab": {
          "base_uri": "https://localhost:8080/",
          "height": 34
        }
      },
      "cell_type": "code",
      "source": [
        "s = \"ATGTCGTCTACAACACT\"\n",
        "print(s, \"is of\", type(s))"
      ],
      "execution_count": 0,
      "outputs": [
        {
          "output_type": "stream",
          "text": [
            "ATGTCGTCTACAACACT is of <class 'str'>\n"
          ],
          "name": "stdout"
        }
      ]
    },
    {
      "metadata": {
        "id": "jqOs2EFq2C7P",
        "colab_type": "code",
        "outputId": "0a6cab90-7591-480c-9d92-33dc62f522d7",
        "colab": {
          "base_uri": "https://localhost:8080/",
          "height": 34
        }
      },
      "cell_type": "code",
      "source": [
        "z = None\n",
        "print(z, \"is of\", type(z))"
      ],
      "execution_count": 0,
      "outputs": [
        {
          "output_type": "stream",
          "text": [
            "None is of <class 'NoneType'>\n"
          ],
          "name": "stdout"
        }
      ]
    },
    {
      "metadata": {
        "id": "w41HVsff2C7Z",
        "colab_type": "text"
      },
      "cell_type": "markdown",
      "source": [
        "## Comments\n",
        "\n",
        "When you are writing a program it is often convenient to annotate your code to remind you what you were (intending) it to do. In programming these annotations are known as _comments_. You can include a comment in python by prefixing some text with a <tt>#</tt> character. All text following the <tt>#</tt> will then be ignored by the interpreter. You can start a comment on its own line, or you can include it at the end of a line of code.\n",
        "\n",
        "It is also often useful to temporarily remove some code from a script without deleting it. This is known as _commenting out_ some code."
      ]
    },
    {
      "metadata": {
        "id": "NP1NTwiY2C7d",
        "colab_type": "code",
        "outputId": "bf4ff996-e1cd-40c0-890f-c8b9e99157ef",
        "colab": {
          "base_uri": "https://localhost:8080/",
          "height": 51
        }
      },
      "cell_type": "code",
      "source": [
        "print(\"Hi\") # this will be ignored\n",
        "# as will this\n",
        "print(\"Bye\")\n",
        "# print \"Never seen\""
      ],
      "execution_count": 0,
      "outputs": [
        {
          "output_type": "stream",
          "text": [
            "Hi\n",
            "Bye\n"
          ],
          "name": "stdout"
        }
      ]
    },
    {
      "metadata": {
        "id": "kjuHhxAS2C7m",
        "colab_type": "text"
      },
      "cell_type": "markdown",
      "source": [
        "## Arithmetic"
      ]
    },
    {
      "metadata": {
        "id": "U-j5rnOl2C7p",
        "colab_type": "text"
      },
      "cell_type": "markdown",
      "source": [
        "Python supports all the standard arithmetical operations on numerical types, and mostly uses a similar syntax to several other computer languages:"
      ]
    },
    {
      "metadata": {
        "id": "VDdy7BOQ2C7s",
        "colab_type": "code",
        "outputId": "e9650457-c364-4a76-9bde-56a0aab4acc1",
        "colab": {
          "base_uri": "https://localhost:8080/",
          "height": 102
        }
      },
      "cell_type": "code",
      "source": [
        "x = 4.5\n",
        "y = 2\n",
        "\n",
        "print('x', x, 'y', y)\n",
        "print('addition x + y =', x + y) \n",
        "print('subtraction x - y =', x - y) \n",
        "print('multiplication x * y =', x * y) \n",
        "print('division x / y =', x / y) "
      ],
      "execution_count": 0,
      "outputs": [
        {
          "output_type": "stream",
          "text": [
            "x 4.5 y 2\n",
            "addition x + y = 6.5\n",
            "subtraction x - y = 2.5\n",
            "multiplication x * y = 9.0\n",
            "division x / y = 2.25\n"
          ],
          "name": "stdout"
        }
      ]
    },
    {
      "metadata": {
        "id": "qfa7t5i32C75",
        "colab_type": "code",
        "outputId": "ef17c62a-5906-4efb-bf96-5c0200f628f8",
        "colab": {
          "base_uri": "https://localhost:8080/",
          "height": 102
        }
      },
      "cell_type": "code",
      "source": [
        "x = 4.5\n",
        "y = 2\n",
        "\n",
        "print('x', x, 'y', y)\n",
        "print('division x / y =', x / y)\n",
        "print('floored division x // y =', x // y) \n",
        "print('modulus (remainder of x/y) x % y =', x % y) \n",
        "print('exponentiation x ** y =', x ** y)"
      ],
      "execution_count": 0,
      "outputs": [
        {
          "output_type": "stream",
          "text": [
            "x 4.5 y 2\n",
            "division x / y = 2.25\n",
            "floored division x // y = 2.0\n",
            "modulus (remainder of x/y) x % y = 0.5\n",
            "exponentiation x ** y = 20.25\n"
          ],
          "name": "stdout"
        }
      ]
    },
    {
      "metadata": {
        "id": "7vTQS3ya2C8E",
        "colab_type": "text"
      },
      "cell_type": "markdown",
      "source": [
        "As usual in maths, division and multiplication have higher precedence than addition and subtraction, but arithmetic expressions can be grouped using parentheses to override the default precedence"
      ]
    },
    {
      "metadata": {
        "id": "gM6R341a2C8O",
        "colab_type": "code",
        "colab": {}
      },
      "cell_type": "code",
      "source": [
        "x = 13\n",
        "y = 5\n",
        "\n",
        "print('x * (2 + y) =', x * (2 + y))\n",
        "print('(x * 2) + y =', (x * 2) + y)\n",
        "print('x * 2 + y =', x * 2 + y)"
      ],
      "execution_count": 0,
      "outputs": []
    },
    {
      "metadata": {
        "id": "YRj3DkNq2C8Z",
        "colab_type": "text"
      },
      "cell_type": "markdown",
      "source": [
        "You can mix (some) types in arithmetic expressions and python will apply rules as to the type of the result\n"
      ]
    },
    {
      "metadata": {
        "id": "yOkl8wAI2C8e",
        "colab_type": "code",
        "colab": {}
      },
      "cell_type": "code",
      "source": [
        "13 + 5.0"
      ],
      "execution_count": 0,
      "outputs": []
    },
    {
      "metadata": {
        "id": "e1B4cwTA2C8x",
        "colab_type": "text"
      },
      "cell_type": "markdown",
      "source": [
        "You can force python to use a particular type by converting an expression explicitly, using helpful named functions: <tt>float</tt>, <tt>int</tt>, <tt>str</tt> etc."
      ]
    },
    {
      "metadata": {
        "id": "PGJPBaEW2C83",
        "colab_type": "code",
        "colab": {}
      },
      "cell_type": "code",
      "source": [
        "float(3) + float(7)"
      ],
      "execution_count": 0,
      "outputs": []
    },
    {
      "metadata": {
        "id": "h9zEIGvk2C9J",
        "colab_type": "code",
        "colab": {}
      },
      "cell_type": "code",
      "source": [
        "int(3.14159) + 1"
      ],
      "execution_count": 0,
      "outputs": []
    },
    {
      "metadata": {
        "id": "XVyVvDVq2C9U",
        "colab_type": "text"
      },
      "cell_type": "markdown",
      "source": [
        "The addition operator `+` allows you also to concatenate strings together."
      ]
    },
    {
      "metadata": {
        "id": "GC03ykyH2C9Z",
        "colab_type": "code",
        "colab": {}
      },
      "cell_type": "code",
      "source": [
        "print('number' + str(3))"
      ],
      "execution_count": 0,
      "outputs": []
    },
    {
      "metadata": {
        "id": "tTXK8RqJ2C90",
        "colab_type": "text"
      },
      "cell_type": "markdown",
      "source": [
        "Division in Python 2 sometimes trips up new (and experienced!) programmers. If you divide 2 integers you will only get an integer result. If you want a floating point result you should explicitly cast at least one of the arguments to a <tt>float</tt>."
      ]
    },
    {
      "metadata": {
        "id": "xAAIxpyN2C91",
        "colab_type": "code",
        "colab": {}
      },
      "cell_type": "code",
      "source": [
        "print(\"3/4 =\", 3/4) # in Python 2, you would get 0\n",
        "print(\"3.0/4 =\", 3.0/4)\n",
        "print(\"float(3)/4 =\", float(3)/4)"
      ],
      "execution_count": 0,
      "outputs": []
    },
    {
      "metadata": {
        "id": "wWEwDL_y2C99",
        "colab_type": "text"
      },
      "cell_type": "markdown",
      "source": [
        "There are a few shortcut assignment statements to make modifying variables directly faster to type"
      ]
    },
    {
      "metadata": {
        "id": "kejrzxaw2C9-",
        "colab_type": "code",
        "colab": {}
      },
      "cell_type": "code",
      "source": [
        "x = 3\n",
        "x += 1 # equivalent to x = x + 1\n",
        "x"
      ],
      "execution_count": 0,
      "outputs": []
    },
    {
      "metadata": {
        "id": "g45OO55g2C-K",
        "colab_type": "code",
        "colab": {}
      },
      "cell_type": "code",
      "source": [
        "x = 2\n",
        "y = 10\n",
        "y *= x\n",
        "y"
      ],
      "execution_count": 0,
      "outputs": []
    },
    {
      "metadata": {
        "id": "Y5al_1xO2C-Q",
        "colab_type": "text"
      },
      "cell_type": "markdown",
      "source": [
        "These shortcut operators are available for all arithmetic and logical operators."
      ]
    },
    {
      "metadata": {
        "id": "Wau4Syfh2C-T",
        "colab_type": "text"
      },
      "cell_type": "markdown",
      "source": [
        "## Exercises 1.2.1\n",
        "\n",
        "In the interpreter:\n",
        "\n",
        "Assign numerical values to 2 variables, calculate the mean of these two variables and store the result in another variable. Print out the result to the screen."
      ]
    },
    {
      "metadata": {
        "id": "R3sHVaKV2C-W",
        "colab_type": "text"
      },
      "cell_type": "markdown",
      "source": [
        "## Exercises 1.2.2\n",
        "\n",
        "Create a new Python file to solve these exercises. It is good practice to create a new file each time you solve a new problem.\n",
        "\n",
        "1. Look up the <a href=\"http://en.wikipedia.org/wiki/DNA_codon_table\">genetic code</a>. Create four string variables that store possible DNA encodings of serine (S), leucine (L), tyrosine (Y) and cysteine (C). Where multiple codings are available, just pick one for now.\n",
        "2. Create a variable containing a possible DNA sequence for the protein sequence SYLYC. (Note that the addition operator <tt>+</tt> allows you to concatenate strings together.) Print the DNA sequence.\n",
        "3. Include a comment in your file to remind you the purpose of the script."
      ]
    },
    {
      "metadata": {
        "id": "awLN_Tq62C-Z",
        "colab_type": "text"
      },
      "cell_type": "markdown",
      "source": [
        "# Part 1.3: Tuples, Lists, Strings\n",
        "\n",
        "-------\n",
        "\n",
        " - Tuples\n",
        " - Lists\n",
        " - Manipulating tuples and lists\n",
        " - String manipulations"
      ]
    },
    {
      "metadata": {
        "id": "YyFSO-D72C-d",
        "colab_type": "text"
      },
      "cell_type": "markdown",
      "source": [
        "As well as the basic data types we introduced above, very commonly you will want to store and operate on collections of values, and python has several _data structures_ that you can use to do this. The general idea is that you can place several items into a single collection and then refer to that collection as a whole. Which one you will use will depend on what problem you are trying to solve.\n",
        "\n",
        "## Tuples\n",
        "\n",
        "- Can contain any number of items\n",
        "- Can contain different types of items\n",
        "- __Cannot__ be altered once created (they are immutable)\n",
        "- Items have a defined order\n",
        "\n",
        "A tuple is created by using round brackets around the items it contains, with commas seperating the individual elements."
      ]
    },
    {
      "metadata": {
        "id": "isNDF2Ky2C-i",
        "colab_type": "code",
        "outputId": "5d9f8d93-a04b-4b4d-b232-09dd3cf4fca5",
        "colab": {
          "base_uri": "https://localhost:8080/",
          "height": 85
        }
      },
      "cell_type": "code",
      "source": [
        "a = (123, 54, 92) # tuple of 4 integers\n",
        "b = () # empty tuple\n",
        "c = (\"Ala\",) # tuple of a single string (note the trailing \",\")\n",
        "d = (2, 3, False, \"Arg\", None) # a tuple of mixed types\n",
        "\n",
        "print(a)\n",
        "print(b)\n",
        "print(c)\n",
        "print(d)"
      ],
      "execution_count": 0,
      "outputs": [
        {
          "output_type": "stream",
          "text": [
            "(123, 54, 92)\n",
            "()\n",
            "('Ala',)\n",
            "(2, 3, False, 'Arg', None)\n"
          ],
          "name": "stdout"
        }
      ]
    },
    {
      "metadata": {
        "id": "WFkgk6302C-o",
        "colab_type": "text"
      },
      "cell_type": "markdown",
      "source": [
        "You can of course use variables in tuples and other data structures"
      ]
    },
    {
      "metadata": {
        "id": "9d6_La_h2C-q",
        "colab_type": "code",
        "outputId": "30b5be83-127b-4526-abae-76220490c3b3",
        "colab": {
          "base_uri": "https://localhost:8080/",
          "height": 34
        }
      },
      "cell_type": "code",
      "source": [
        "x = 1.2\n",
        "y = -0.3\n",
        "z = 0.9\n",
        "t = (x, y, z)\n",
        "\n",
        "print(t)"
      ],
      "execution_count": 0,
      "outputs": [
        {
          "output_type": "stream",
          "text": [
            "(1.2, -0.3, 0.9)\n"
          ],
          "name": "stdout"
        }
      ]
    },
    {
      "metadata": {
        "id": "0gMidASk2C-w",
        "colab_type": "text"
      },
      "cell_type": "markdown",
      "source": [
        "Tuples can be _packed_ and _unpacked_ with a convenient syntax. The number of variables used to unpack the tuple must match the number of elements in the tuple."
      ]
    },
    {
      "metadata": {
        "id": "38l8vKCq2C-5",
        "colab_type": "code",
        "outputId": "828e167c-a07b-4cb4-fbc8-db688495ece1",
        "colab": {
          "base_uri": "https://localhost:8080/",
          "height": 85
        }
      },
      "cell_type": "code",
      "source": [
        "t = 2, 3, 4 # tuple packing\n",
        "print('t is', t)\n",
        "x, y, z = t # tuple unpacking\n",
        "print('x is', x)\n",
        "print('y is', y)\n",
        "print('z is', z)"
      ],
      "execution_count": 0,
      "outputs": [
        {
          "output_type": "stream",
          "text": [
            "t is (2, 3, 4)\n",
            "x is 2\n",
            "y is 3\n",
            "z is 4\n"
          ],
          "name": "stdout"
        }
      ]
    },
    {
      "metadata": {
        "id": "o3V9KRU52C_P",
        "colab_type": "text"
      },
      "cell_type": "markdown",
      "source": [
        "## Lists\n",
        "\n",
        "- Can contain any number of items\n",
        "- Can contain different types of items\n",
        "- __Can__ be altered once created (they are _mutable_)\n",
        "- Items have a particular order\n",
        "\n",
        "Lists are created with square brackets around their items:"
      ]
    },
    {
      "metadata": {
        "id": "yrN925cN2C_U",
        "colab_type": "code",
        "outputId": "28e08f91-c21d-4810-a2cc-3d3e67223691",
        "colab": {
          "base_uri": "https://localhost:8080/",
          "height": 68
        }
      },
      "cell_type": "code",
      "source": [
        "a = [1, 3, 9]\n",
        "b = [\"ATG\"]\n",
        "c = []\n",
        "\n",
        "print(a)\n",
        "print(b)\n",
        "print(c)"
      ],
      "execution_count": 0,
      "outputs": [
        {
          "output_type": "stream",
          "text": [
            "[1, 3, 9]\n",
            "['ATG']\n",
            "[]\n"
          ],
          "name": "stdout"
        }
      ]
    },
    {
      "metadata": {
        "id": "QOdeAPdR2C_h",
        "colab_type": "text"
      },
      "cell_type": "markdown",
      "source": [
        "Lists and tuples can contain other list and tuples, or any other type of collection:"
      ]
    },
    {
      "metadata": {
        "id": "2fQ6eRhT2C_k",
        "colab_type": "code",
        "outputId": "92a125b3-4b22-4124-e153-d29ecd6ee625",
        "colab": {
          "base_uri": "https://localhost:8080/",
          "height": 34
        }
      },
      "cell_type": "code",
      "source": [
        "matrix = [[1, 0], [0, 2]]\n",
        "print(matrix)"
      ],
      "execution_count": 0,
      "outputs": [
        {
          "output_type": "stream",
          "text": [
            "[[1, 0], [0, 2]]\n"
          ],
          "name": "stdout"
        }
      ]
    },
    {
      "metadata": {
        "id": "WjOBUa_D2C_u",
        "colab_type": "text"
      },
      "cell_type": "markdown",
      "source": [
        "You can convert between tuples and lists with the <tt>tuple</tt> and <tt>list</tt> functions. Note that these create a new collection with the same items, and leave the original unaffected."
      ]
    },
    {
      "metadata": {
        "id": "uHdgeaBf2C_w",
        "colab_type": "code",
        "outputId": "28c42d75-4350-4b62-ae4e-d3fc3ed8fcad",
        "colab": {
          "base_uri": "https://localhost:8080/",
          "height": 85
        }
      },
      "cell_type": "code",
      "source": [
        "a = (1, 4, 9, 16)     # A tuple of numbers\n",
        "b = ['G','C','A','T'] # A list of characters\n",
        "\n",
        "print(a)\n",
        "print(b)\n",
        "\n",
        "l = list(a)   # Make a list based on a tuple \n",
        "print(l)\n",
        "\n",
        "t = tuple(b)  # Make a tuple based on a list\n",
        "print(t)"
      ],
      "execution_count": 0,
      "outputs": [
        {
          "output_type": "stream",
          "text": [
            "(1, 4, 9, 16)\n",
            "['G', 'C', 'A', 'T']\n",
            "[1, 4, 9, 16]\n",
            "('G', 'C', 'A', 'T')\n"
          ],
          "name": "stdout"
        }
      ]
    },
    {
      "metadata": {
        "id": "FgsWJxr_2C_4",
        "colab_type": "text"
      },
      "cell_type": "markdown",
      "source": [
        "## Manipulating tuples and lists\n",
        "\n",
        "Once your data is in a list or tuple, python supports a number of ways you can access elements of the list and manipulate the list in useful ways, such as sorting the data.\n",
        "\n",
        "Tuples and lists can generally be used in very similar ways."
      ]
    },
    {
      "metadata": {
        "id": "gwJG9Vma2C_6",
        "colab_type": "text"
      },
      "cell_type": "markdown",
      "source": [
        "### Index access\n",
        "\n",
        "You can access individual elements of the collection using their _index_, note that the first element is at index 0. Negative indices count backwards from the end."
      ]
    },
    {
      "metadata": {
        "id": "TZeo8sX62C_-",
        "colab_type": "code",
        "outputId": "c520add7-e0c3-4ede-84ad-896591c5d956",
        "colab": {
          "base_uri": "https://localhost:8080/",
          "height": 102
        }
      },
      "cell_type": "code",
      "source": [
        "t = (123, 54, 92, 87, 33)\n",
        "x = [123, 54, 92, 87, 33]\n",
        "\n",
        "print('t is', t)\n",
        "print('t[0] is', t[0])\n",
        "print('t[2] is', t[2])\n",
        "\n",
        "print('x is', x)\n",
        "print('x[-1] is', x[-1])"
      ],
      "execution_count": 0,
      "outputs": [
        {
          "output_type": "stream",
          "text": [
            "t is (123, 54, 92, 87, 33)\n",
            "t[0] is 123\n",
            "t[2] is 92\n",
            "x is [123, 54, 92, 87, 33]\n",
            "x[-1] is 33\n"
          ],
          "name": "stdout"
        }
      ]
    },
    {
      "metadata": {
        "id": "Ec3ywHXf2DAJ",
        "colab_type": "text"
      },
      "cell_type": "markdown",
      "source": [
        "### Slices\n",
        "\n",
        "You can also access a range of items, known as _slices_, from inside lists and tuples using a colon `:` to indicate the beginning and end of the slice inside the square brackets. **Note that the slice notation `[a:b]` includes positions from `a` up to _but not including_ `b`**."
      ]
    },
    {
      "metadata": {
        "id": "Lo3gUyEt2DAP",
        "colab_type": "code",
        "outputId": "6f73465a-344e-406c-a410-ced60cd96c13",
        "colab": {
          "base_uri": "https://localhost:8080/",
          "height": 68
        }
      },
      "cell_type": "code",
      "source": [
        "t = (123, 54, 92, 87, 33)\n",
        "x = [123, 54, 92, 87, 33]\n",
        "print('t[1:3] is', t[1:3])\n",
        "print('x[2:] is', x[2:])\n",
        "print('x[:-1] is', x[:-1])"
      ],
      "execution_count": 0,
      "outputs": [
        {
          "output_type": "stream",
          "text": [
            "t[1:3] is (54, 92)\n",
            "x[2:] is [92, 87, 33]\n",
            "x[:-1] is [123, 54, 92, 87]\n"
          ],
          "name": "stdout"
        }
      ]
    },
    {
      "metadata": {
        "id": "C_DaUh_D2DAn",
        "colab_type": "text"
      },
      "cell_type": "markdown",
      "source": [
        "### `in` operator\n",
        "You can check if a value is in a tuple or list with the <tt>in</tt> operator, and you can negate this with <tt>not</tt>"
      ]
    },
    {
      "metadata": {
        "id": "dyKZXtSh2DAp",
        "colab_type": "code",
        "outputId": "7d807a36-3962-4623-abad-1744093e42ea",
        "colab": {
          "base_uri": "https://localhost:8080/",
          "height": 68
        }
      },
      "cell_type": "code",
      "source": [
        "t = (123, 54, 92, 87, 33)\n",
        "x = [123, 54, 92, 87, 33]\n",
        "print('123 in', x, 123 in x)\n",
        "print('234 in', t, 234 in t)\n",
        "print('999 not in', x, 999 not in x)"
      ],
      "execution_count": 0,
      "outputs": [
        {
          "output_type": "stream",
          "text": [
            "123 in [123, 54, 92, 87, 33] True\n",
            "234 in (123, 54, 92, 87, 33) False\n",
            "999 not in [123, 54, 92, 87, 33] True\n"
          ],
          "name": "stdout"
        }
      ]
    },
    {
      "metadata": {
        "id": "fe69a9Hj2DAw",
        "colab_type": "text"
      },
      "cell_type": "markdown",
      "source": [
        "### `len()` and `count()` functions\n",
        "You can get the length of a list or tuple with the in-built <tt>len()</tt> function, and you can count the number of particular elements contained in a list with the <tt>.count()</tt> function."
      ]
    },
    {
      "metadata": {
        "id": "HbYtDfhY2DA0",
        "colab_type": "code",
        "outputId": "1c797d46-b8e6-43d4-c472-8e633755f737",
        "colab": {
          "base_uri": "https://localhost:8080/",
          "height": 51
        }
      },
      "cell_type": "code",
      "source": [
        "t = (123, 54, 92, 87, 33)\n",
        "x = [123, 54, 92, 87, 33]\n",
        "print(\"length of t is\", len(t))\n",
        "print(\"number of 33s in x is\", x.count(33))"
      ],
      "execution_count": 0,
      "outputs": [
        {
          "output_type": "stream",
          "text": [
            "length of t is 5\n",
            "number of 33s in x is 1\n"
          ],
          "name": "stdout"
        }
      ]
    },
    {
      "metadata": {
        "id": "umQF0z6Y2DBD",
        "colab_type": "text"
      },
      "cell_type": "markdown",
      "source": [
        "### Modifying lists\n",
        "You can alter lists in place, but not tuples"
      ]
    },
    {
      "metadata": {
        "id": "8LHYQbsM2DBG",
        "colab_type": "code",
        "outputId": "27078365-87b2-43dc-a151-fcca0dbf1ee4",
        "colab": {
          "base_uri": "https://localhost:8080/",
          "height": 51
        }
      },
      "cell_type": "code",
      "source": [
        "x = [123, 54, 92, 87, 33]\n",
        "print(x)\n",
        "x[2] = 33\n",
        "print(x)"
      ],
      "execution_count": 0,
      "outputs": [
        {
          "output_type": "stream",
          "text": [
            "[123, 54, 92, 87, 33]\n",
            "[123, 54, 33, 87, 33]\n"
          ],
          "name": "stdout"
        }
      ]
    },
    {
      "metadata": {
        "id": "yJVjx_Ts2DBN",
        "colab_type": "text"
      },
      "cell_type": "markdown",
      "source": [
        "Tuples _cannot_ be altered once they have been created, if you try to do so, you'll get an error."
      ]
    },
    {
      "metadata": {
        "id": "5014rKta2DBP",
        "colab_type": "code",
        "outputId": "6cc7de77-ae35-447a-f180-e9b16da81b35",
        "colab": {
          "base_uri": "https://localhost:8080/",
          "height": 215
        }
      },
      "cell_type": "code",
      "source": [
        "t = (123, 54, 92, 87, 33)\n",
        "print(t)\n",
        "t[1] = 4"
      ],
      "execution_count": 0,
      "outputs": [
        {
          "output_type": "stream",
          "text": [
            "(123, 54, 92, 87, 33)\n"
          ],
          "name": "stdout"
        },
        {
          "output_type": "error",
          "ename": "TypeError",
          "evalue": "ignored",
          "traceback": [
            "\u001b[0;31m---------------------------------------------------------------------------\u001b[0m",
            "\u001b[0;31mTypeError\u001b[0m                                 Traceback (most recent call last)",
            "\u001b[0;32m<ipython-input-39-8b8ecaf23c21>\u001b[0m in \u001b[0;36m<module>\u001b[0;34m()\u001b[0m\n\u001b[1;32m      1\u001b[0m \u001b[0mt\u001b[0m \u001b[0;34m=\u001b[0m \u001b[0;34m(\u001b[0m\u001b[0;36m123\u001b[0m\u001b[0;34m,\u001b[0m \u001b[0;36m54\u001b[0m\u001b[0;34m,\u001b[0m \u001b[0;36m92\u001b[0m\u001b[0;34m,\u001b[0m \u001b[0;36m87\u001b[0m\u001b[0;34m,\u001b[0m \u001b[0;36m33\u001b[0m\u001b[0;34m)\u001b[0m\u001b[0;34m\u001b[0m\u001b[0;34m\u001b[0m\u001b[0m\n\u001b[1;32m      2\u001b[0m \u001b[0mprint\u001b[0m\u001b[0;34m(\u001b[0m\u001b[0mt\u001b[0m\u001b[0;34m)\u001b[0m\u001b[0;34m\u001b[0m\u001b[0;34m\u001b[0m\u001b[0m\n\u001b[0;32m----> 3\u001b[0;31m \u001b[0mt\u001b[0m\u001b[0;34m[\u001b[0m\u001b[0;36m1\u001b[0m\u001b[0;34m]\u001b[0m \u001b[0;34m=\u001b[0m \u001b[0;36m4\u001b[0m\u001b[0;34m\u001b[0m\u001b[0;34m\u001b[0m\u001b[0m\n\u001b[0m",
            "\u001b[0;31mTypeError\u001b[0m: 'tuple' object does not support item assignment"
          ]
        }
      ]
    },
    {
      "metadata": {
        "id": "-k7LoEGG2DBU",
        "colab_type": "text"
      },
      "cell_type": "markdown",
      "source": [
        "You can add elements to the end of a list with <tt>append()</tt>"
      ]
    },
    {
      "metadata": {
        "id": "1VRu26Ra2DBX",
        "colab_type": "code",
        "outputId": "ac6891cb-9d97-41a6-bea6-05371fa1d8e3",
        "colab": {
          "base_uri": "https://localhost:8080/",
          "height": 34
        }
      },
      "cell_type": "code",
      "source": [
        "x = [123, 54, 92, 87, 33]\n",
        "x.append(101)\n",
        "print(x)"
      ],
      "execution_count": 0,
      "outputs": [
        {
          "output_type": "stream",
          "text": [
            "[123, 54, 92, 87, 33, 101]\n"
          ],
          "name": "stdout"
        }
      ]
    },
    {
      "metadata": {
        "id": "jJL3aRPx2DBb",
        "colab_type": "text"
      },
      "cell_type": "markdown",
      "source": [
        "or insert values at a certain position with <tt>insert()</tt>, by supplying the desired position as well as the new value"
      ]
    },
    {
      "metadata": {
        "id": "5zTJJzmE2DBd",
        "colab_type": "code",
        "outputId": "aa143775-b722-432a-a3e0-9a704c232865",
        "colab": {
          "base_uri": "https://localhost:8080/",
          "height": 34
        }
      },
      "cell_type": "code",
      "source": [
        "x = [123, 54, 92, 87, 33]\n",
        "x.insert(3, 1111)\n",
        "print(x)"
      ],
      "execution_count": 0,
      "outputs": [
        {
          "output_type": "stream",
          "text": [
            "[123, 54, 92, 1111, 87, 33]\n"
          ],
          "name": "stdout"
        }
      ]
    },
    {
      "metadata": {
        "id": "EAtq-o4d2DBm",
        "colab_type": "text"
      },
      "cell_type": "markdown",
      "source": [
        "You can remove values with <tt>remove()</tt>"
      ]
    },
    {
      "metadata": {
        "id": "KkQKOrC82DBp",
        "colab_type": "code",
        "outputId": "e22fbf16-1318-4dc0-8a6c-314f97d0550e",
        "colab": {
          "base_uri": "https://localhost:8080/",
          "height": 34
        }
      },
      "cell_type": "code",
      "source": [
        "x = [123, 54, 92, 87, 33]\n",
        "x.remove(123)\n",
        "print(x)"
      ],
      "execution_count": 0,
      "outputs": [
        {
          "output_type": "stream",
          "text": [
            "[54, 92, 87, 33]\n"
          ],
          "name": "stdout"
        }
      ]
    },
    {
      "metadata": {
        "id": "oniazH6S2DBx",
        "colab_type": "text"
      },
      "cell_type": "markdown",
      "source": [
        "and delete values by index with <tt>del</tt>"
      ]
    },
    {
      "metadata": {
        "id": "HPb-uiN22DB0",
        "colab_type": "code",
        "outputId": "ad2e5472-1a89-4620-f03e-467fed2bf293",
        "colab": {
          "base_uri": "https://localhost:8080/",
          "height": 51
        }
      },
      "cell_type": "code",
      "source": [
        "x = [123, 54, 92, 87, 33]\n",
        "print(x)\n",
        "del x[0]\n",
        "print(x)"
      ],
      "execution_count": 0,
      "outputs": [
        {
          "output_type": "stream",
          "text": [
            "[123, 54, 92, 87, 33]\n",
            "[54, 92, 87, 33]\n"
          ],
          "name": "stdout"
        }
      ]
    },
    {
      "metadata": {
        "id": "foP2RKzG2DB8",
        "colab_type": "text"
      },
      "cell_type": "markdown",
      "source": [
        "It's often useful to be able to combine arrays together, which can be done with <tt>extend()</tt> (as <tt>append</tt> would add the whole list as a single element in the list)"
      ]
    },
    {
      "metadata": {
        "id": "USvBgfE12DCA",
        "colab_type": "code",
        "outputId": "eb0e3d46-cfbd-4fb8-cff8-f4de71089438",
        "colab": {
          "base_uri": "https://localhost:8080/",
          "height": 51
        }
      },
      "cell_type": "code",
      "source": [
        "a = [1,2,3]\n",
        "b = [4,5,6]\n",
        "a.extend(b)\n",
        "print(a)\n",
        "a.append(b)\n",
        "print(a)"
      ],
      "execution_count": 0,
      "outputs": [
        {
          "output_type": "stream",
          "text": [
            "[1, 2, 3, 4, 5, 6]\n",
            "[1, 2, 3, 4, 5, 6, [4, 5, 6]]\n"
          ],
          "name": "stdout"
        }
      ]
    },
    {
      "metadata": {
        "id": "6iUlC6Ik2DCN",
        "colab_type": "text"
      },
      "cell_type": "markdown",
      "source": [
        "The plus symbol <tt>+</tt> is shorthand for the extend operation when applied to lists:"
      ]
    },
    {
      "metadata": {
        "id": "udqXsV6c2DCP",
        "colab_type": "code",
        "outputId": "612c8fbc-c025-42cc-a908-22323162ed5b",
        "colab": {
          "base_uri": "https://localhost:8080/",
          "height": 34
        }
      },
      "cell_type": "code",
      "source": [
        "a = [1, 2, 3]\n",
        "b = [4, 5, 6]\n",
        "a = a + b\n",
        "print(a)"
      ],
      "execution_count": 0,
      "outputs": [
        {
          "output_type": "stream",
          "text": [
            "[1, 2, 3, 4, 5, 6]\n"
          ],
          "name": "stdout"
        }
      ]
    },
    {
      "metadata": {
        "id": "UV-joTim2DCY",
        "colab_type": "text"
      },
      "cell_type": "markdown",
      "source": [
        "Slice syntax can be used on the left hand side of an assignment operation to assign subregions of a list"
      ]
    },
    {
      "metadata": {
        "id": "XIamDTCp2DCc",
        "colab_type": "code",
        "outputId": "305c6015-bc6f-4c3d-e034-b23a3717e127",
        "colab": {
          "base_uri": "https://localhost:8080/",
          "height": 34
        }
      },
      "cell_type": "code",
      "source": [
        "a = [1, 2, 3, 4, 5, 6]\n",
        "a[1:3] = [9, 9, 9, 9]\n",
        "print(a)"
      ],
      "execution_count": 0,
      "outputs": [
        {
          "output_type": "stream",
          "text": [
            "[1, 9, 9, 9, 9, 4, 5, 6]\n"
          ],
          "name": "stdout"
        }
      ]
    },
    {
      "metadata": {
        "id": "-aDsA00I2DCw",
        "colab_type": "text"
      },
      "cell_type": "markdown",
      "source": [
        "You can change the order of elements in a list"
      ]
    },
    {
      "metadata": {
        "id": "syLOzK2L2DCz",
        "colab_type": "code",
        "outputId": "cc3cda1d-7171-4dda-e2d6-1238afa4d60f",
        "colab": {
          "base_uri": "https://localhost:8080/",
          "height": 51
        }
      },
      "cell_type": "code",
      "source": [
        "a = [1, 3, 5, 4, 2]\n",
        "a.reverse()\n",
        "print(a)\n",
        "a.sort()\n",
        "print(a)"
      ],
      "execution_count": 0,
      "outputs": [
        {
          "output_type": "stream",
          "text": [
            "[2, 4, 5, 3, 1]\n",
            "[1, 2, 3, 4, 5]\n"
          ],
          "name": "stdout"
        }
      ]
    },
    {
      "metadata": {
        "id": "cp-WnXky2DC9",
        "colab_type": "text"
      },
      "cell_type": "markdown",
      "source": [
        "Note that both of these change the list, if you want a sorted copy of the list while leaving the original untouched, use <tt>sorted()</tt>"
      ]
    },
    {
      "metadata": {
        "id": "WJkMtyWX2DC_",
        "colab_type": "code",
        "outputId": "e93b7721-4bc8-49f9-c8aa-dd7b754ed3df",
        "colab": {
          "base_uri": "https://localhost:8080/",
          "height": 51
        }
      },
      "cell_type": "code",
      "source": [
        "a = [2, 5, 7, 1]\n",
        "b = sorted(a)\n",
        "print(a)\n",
        "print(b)"
      ],
      "execution_count": 0,
      "outputs": [
        {
          "output_type": "stream",
          "text": [
            "[2, 5, 7, 1]\n",
            "[1, 2, 5, 7]\n"
          ],
          "name": "stdout"
        }
      ]
    },
    {
      "metadata": {
        "id": "fSozaIm92DDJ",
        "colab_type": "text"
      },
      "cell_type": "markdown",
      "source": [
        "### Getting help from the official Python documentation\n",
        "\n",
        "The most useful information is online on https://www.python.org/ website and should be used as a reference guide.\n",
        "\n",
        "- [Python 3.5.2 documentation](https://docs.python.org/3/) is the starting page with links to tutorials and libraries' documentation for Python 3\n",
        "    - [The Python Tutorial](https://docs.python.org/3/tutorial/index.html)\n",
        "    - [The Python Standard Library Reference](https://docs.python.org/3/library/index.html) is the documentation of all libraries included within Python as well as built-in functions and data types like:\n",
        "        - [Text Sequence Type — `str`](https://docs.python.org/3/library/stdtypes.html#text-sequence-type-str)\n",
        "        - [Numeric Types — `int`, `float`](https://docs.python.org/3/library/stdtypes.html#numeric-types-int-float-complex)\n",
        "        - [Sequence Types — `list`, `tuple`](https://docs.python.org/3/library/stdtypes.html#sequence-types-list-tuple-range)\n",
        "        - [Set Types — `set`](https://docs.python.org/3/library/stdtypes.html#set-types-set-frozenset)\n",
        "        - [Mapping Types — `dict`](https://docs.python.org/3/library/stdtypes.html#mapping-types-dict)\n",
        "        \n",
        "### Getting help directly from within Python using `help()`"
      ]
    },
    {
      "metadata": {
        "id": "N1ITseH52DDM",
        "colab_type": "code",
        "outputId": "ad02ec34-ba24-49ff-e726-ff23d1489efe",
        "colab": {
          "base_uri": "https://localhost:8080/",
          "height": 102
        }
      },
      "cell_type": "code",
      "source": [
        "help(len)"
      ],
      "execution_count": 0,
      "outputs": [
        {
          "output_type": "stream",
          "text": [
            "Help on built-in function len in module builtins:\n",
            "\n",
            "len(obj, /)\n",
            "    Return the number of items in a container.\n",
            "\n"
          ],
          "name": "stdout"
        }
      ]
    },
    {
      "metadata": {
        "id": "5Qga51Kr2DDT",
        "colab_type": "code",
        "outputId": "c2b84854-dd7a-4ae9-8763-f1d076854548",
        "colab": {
          "base_uri": "https://localhost:8080/",
          "height": 2023
        }
      },
      "cell_type": "code",
      "source": [
        "help(list)"
      ],
      "execution_count": 0,
      "outputs": [
        {
          "output_type": "stream",
          "text": [
            "Help on class list in module builtins:\n",
            "\n",
            "class list(object)\n",
            " |  list() -> new empty list\n",
            " |  list(iterable) -> new list initialized from iterable's items\n",
            " |  \n",
            " |  Methods defined here:\n",
            " |  \n",
            " |  __add__(self, value, /)\n",
            " |      Return self+value.\n",
            " |  \n",
            " |  __contains__(self, key, /)\n",
            " |      Return key in self.\n",
            " |  \n",
            " |  __delitem__(self, key, /)\n",
            " |      Delete self[key].\n",
            " |  \n",
            " |  __eq__(self, value, /)\n",
            " |      Return self==value.\n",
            " |  \n",
            " |  __ge__(self, value, /)\n",
            " |      Return self>=value.\n",
            " |  \n",
            " |  __getattribute__(self, name, /)\n",
            " |      Return getattr(self, name).\n",
            " |  \n",
            " |  __getitem__(...)\n",
            " |      x.__getitem__(y) <==> x[y]\n",
            " |  \n",
            " |  __gt__(self, value, /)\n",
            " |      Return self>value.\n",
            " |  \n",
            " |  __iadd__(self, value, /)\n",
            " |      Implement self+=value.\n",
            " |  \n",
            " |  __imul__(self, value, /)\n",
            " |      Implement self*=value.\n",
            " |  \n",
            " |  __init__(self, /, *args, **kwargs)\n",
            " |      Initialize self.  See help(type(self)) for accurate signature.\n",
            " |  \n",
            " |  __iter__(self, /)\n",
            " |      Implement iter(self).\n",
            " |  \n",
            " |  __le__(self, value, /)\n",
            " |      Return self<=value.\n",
            " |  \n",
            " |  __len__(self, /)\n",
            " |      Return len(self).\n",
            " |  \n",
            " |  __lt__(self, value, /)\n",
            " |      Return self<value.\n",
            " |  \n",
            " |  __mul__(self, value, /)\n",
            " |      Return self*value.\n",
            " |  \n",
            " |  __ne__(self, value, /)\n",
            " |      Return self!=value.\n",
            " |  \n",
            " |  __new__(*args, **kwargs) from builtins.type\n",
            " |      Create and return a new object.  See help(type) for accurate signature.\n",
            " |  \n",
            " |  __repr__(self, /)\n",
            " |      Return repr(self).\n",
            " |  \n",
            " |  __reversed__(...)\n",
            " |      L.__reversed__() -- return a reverse iterator over the list\n",
            " |  \n",
            " |  __rmul__(self, value, /)\n",
            " |      Return value*self.\n",
            " |  \n",
            " |  __setitem__(self, key, value, /)\n",
            " |      Set self[key] to value.\n",
            " |  \n",
            " |  __sizeof__(...)\n",
            " |      L.__sizeof__() -- size of L in memory, in bytes\n",
            " |  \n",
            " |  append(...)\n",
            " |      L.append(object) -> None -- append object to end\n",
            " |  \n",
            " |  clear(...)\n",
            " |      L.clear() -> None -- remove all items from L\n",
            " |  \n",
            " |  copy(...)\n",
            " |      L.copy() -> list -- a shallow copy of L\n",
            " |  \n",
            " |  count(...)\n",
            " |      L.count(value) -> integer -- return number of occurrences of value\n",
            " |  \n",
            " |  extend(...)\n",
            " |      L.extend(iterable) -> None -- extend list by appending elements from the iterable\n",
            " |  \n",
            " |  index(...)\n",
            " |      L.index(value, [start, [stop]]) -> integer -- return first index of value.\n",
            " |      Raises ValueError if the value is not present.\n",
            " |  \n",
            " |  insert(...)\n",
            " |      L.insert(index, object) -- insert object before index\n",
            " |  \n",
            " |  pop(...)\n",
            " |      L.pop([index]) -> item -- remove and return item at index (default last).\n",
            " |      Raises IndexError if list is empty or index is out of range.\n",
            " |  \n",
            " |  remove(...)\n",
            " |      L.remove(value) -> None -- remove first occurrence of value.\n",
            " |      Raises ValueError if the value is not present.\n",
            " |  \n",
            " |  reverse(...)\n",
            " |      L.reverse() -- reverse *IN PLACE*\n",
            " |  \n",
            " |  sort(...)\n",
            " |      L.sort(key=None, reverse=False) -> None -- stable sort *IN PLACE*\n",
            " |  \n",
            " |  ----------------------------------------------------------------------\n",
            " |  Data and other attributes defined here:\n",
            " |  \n",
            " |  __hash__ = None\n",
            "\n"
          ],
          "name": "stdout"
        }
      ]
    },
    {
      "metadata": {
        "id": "YgMD34u42DDi",
        "colab_type": "code",
        "colab": {}
      },
      "cell_type": "code",
      "source": [
        "help(list.insert)"
      ],
      "execution_count": 0,
      "outputs": []
    },
    {
      "metadata": {
        "id": "uqHduGVs2DDz",
        "colab_type": "code",
        "colab": {}
      },
      "cell_type": "code",
      "source": [
        "help(list.count)"
      ],
      "execution_count": 0,
      "outputs": []
    },
    {
      "metadata": {
        "id": "kpfyEMH62DEL",
        "colab_type": "text"
      },
      "cell_type": "markdown",
      "source": [
        "## Exercise 1.3.1\n",
        "\n",
        "1. Create a list of DNA codons for the protein sequence CLYSY based on the codon variables you defined previously.\n",
        "2. Print the DNA sequence of the protein to the screen.\n",
        "3. Print the DNA codon of the last amino acid in the protein sequence.\n",
        "4. Create two more variables containing the DNA sequence of a stop codon and a start codon, and replace the first element of the DNA sequence with the start codon and append the stop codon to the end of the DNA sequence. Print out the resulting DNA sequence."
      ]
    },
    {
      "metadata": {
        "id": "76nqIz9T2DEQ",
        "colab_type": "text"
      },
      "cell_type": "markdown",
      "source": [
        "## String manipulations\n",
        "\n",
        "Strings are a lot like tuples of characters, and individual characters and substrings can be accessed and manipulated using similar operations we introduced above.\n"
      ]
    },
    {
      "metadata": {
        "id": "AL1UDR4R2DES",
        "colab_type": "code",
        "outputId": "c86560bd-2dfa-4d2e-f540-86a9fa37935f",
        "colab": {
          "base_uri": "https://localhost:8080/",
          "height": 119
        }
      },
      "cell_type": "code",
      "source": [
        "text = \"ATGTCATTTGT\"\n",
        "print(text[0])\n",
        "print(text[-2])\n",
        "print(text[0:6])\n",
        "print(\"ATG\" in text)\n",
        "print(\"TGA\" in text)\n",
        "print(len(text))"
      ],
      "execution_count": 0,
      "outputs": [
        {
          "output_type": "stream",
          "text": [
            "A\n",
            "G\n",
            "ATGTCA\n",
            "True\n",
            "False\n",
            "11\n"
          ],
          "name": "stdout"
        }
      ]
    },
    {
      "metadata": {
        "id": "iLw6B4in2DEX",
        "colab_type": "text"
      },
      "cell_type": "markdown",
      "source": [
        "Just as with tuples, trying to assign a value to an element of a string results in an error"
      ]
    },
    {
      "metadata": {
        "id": "DtuFxo3c2DEY",
        "colab_type": "code",
        "outputId": "9e875a6e-0d77-4f9e-a186-9c747fc6da6d",
        "colab": {
          "base_uri": "https://localhost:8080/",
          "height": 181
        }
      },
      "cell_type": "code",
      "source": [
        "text = \"ATGTCATTTGT\"\n",
        "text[0:2] = \"CCC\" "
      ],
      "execution_count": 0,
      "outputs": [
        {
          "output_type": "error",
          "ename": "TypeError",
          "evalue": "ignored",
          "traceback": [
            "\u001b[0;31m---------------------------------------------------------------------------\u001b[0m",
            "\u001b[0;31mTypeError\u001b[0m                                 Traceback (most recent call last)",
            "\u001b[0;32m<ipython-input-52-a34610df3f4b>\u001b[0m in \u001b[0;36m<module>\u001b[0;34m()\u001b[0m\n\u001b[1;32m      1\u001b[0m \u001b[0mtext\u001b[0m \u001b[0;34m=\u001b[0m \u001b[0;34m\"ATGTCATTTGT\"\u001b[0m\u001b[0;34m\u001b[0m\u001b[0;34m\u001b[0m\u001b[0m\n\u001b[0;32m----> 2\u001b[0;31m \u001b[0mtext\u001b[0m\u001b[0;34m[\u001b[0m\u001b[0;36m0\u001b[0m\u001b[0;34m:\u001b[0m\u001b[0;36m2\u001b[0m\u001b[0;34m]\u001b[0m \u001b[0;34m=\u001b[0m \u001b[0;34m\"CCC\"\u001b[0m\u001b[0;34m\u001b[0m\u001b[0;34m\u001b[0m\u001b[0m\n\u001b[0m",
            "\u001b[0;31mTypeError\u001b[0m: 'str' object does not support item assignment"
          ]
        }
      ]
    },
    {
      "metadata": {
        "id": "hmuTN4c82DEe",
        "colab_type": "text"
      },
      "cell_type": "markdown",
      "source": [
        "Python provides a number of useful functions that let you manipulate strings\n",
        "\n",
        "The <tt>in</tt> operator lets you check if a substring is contained within a larger string, but it does not tell you where the substring is located. This is often useful to know and python provides the <tt>.find()</tt> method which returns the index of the first occurrence of the search string, and the <tt>.rfind()</tt> method to start searching from the end of the string.\n",
        "\n",
        "If the search string is not found in the string both these methods return -1."
      ]
    },
    {
      "metadata": {
        "id": "Y0Bkw2lN2DEf",
        "colab_type": "code",
        "outputId": "a3da272e-b577-4bb4-e9c0-5d29305153aa",
        "colab": {
          "base_uri": "https://localhost:8080/",
          "height": 68
        }
      },
      "cell_type": "code",
      "source": [
        "dna = \"ATGTCACCGTTT\"\n",
        "index = dna.find(\"TCA\")\n",
        "print(\"TCA is at position:\", index)\n",
        "index = dna.rfind('C')\n",
        "print(\"The last Cytosine is at position:\", index)\n",
        "print(\"Position of a stop codon:\", dna.find(\"TGA\"))"
      ],
      "execution_count": 0,
      "outputs": [
        {
          "output_type": "stream",
          "text": [
            "TCA is at position: 3\n",
            "The last Cytosine is at position: 7\n",
            "Position of a stop codon: -1\n"
          ],
          "name": "stdout"
        }
      ]
    },
    {
      "metadata": {
        "id": "FPdKnKHH2DEl",
        "colab_type": "text"
      },
      "cell_type": "markdown",
      "source": [
        "When we are reading text from files  (which we will see later on), often there is unwanted whitespace at the start or end of the string. We can remove leading whitespace with the <tt>.lstrip()</tt> method, trailing whitespace with <tt>.rstrip()</tt>, and whitespace from both ends with <tt>.strip()</tt>.\n",
        "\n",
        "All of these methods return a copy of the changed string, so if you want to replace the original you can assign the result of the method call to the original variable."
      ]
    },
    {
      "metadata": {
        "id": "TqthBN1c2DEn",
        "colab_type": "code",
        "outputId": "2d80fd8f-30ed-4577-df76-05e3c638fae5",
        "colab": {
          "base_uri": "https://localhost:8080/",
          "height": 85
        }
      },
      "cell_type": "code",
      "source": [
        "s = \"    Chromosome Start End                     \"\n",
        "print(len(s), s)\n",
        "s = s.lstrip()\n",
        "print(len(s), s)\n",
        "s = s.rstrip()\n",
        "print(len(s), s)\n",
        "s = \"    Chromosome Start End                     \"\n",
        "s = s.strip()\n",
        "print(len(s), s)"
      ],
      "execution_count": 0,
      "outputs": [
        {
          "output_type": "stream",
          "text": [
            "45     Chromosome Start End                     \n",
            "41 Chromosome Start End                     \n",
            "20 Chromosome Start End\n",
            "20 Chromosome Start End\n"
          ],
          "name": "stdout"
        }
      ]
    },
    {
      "metadata": {
        "id": "AzJu9kV12DE2",
        "colab_type": "text"
      },
      "cell_type": "markdown",
      "source": [
        "You can split a string into a list of substrings using the <tt>.split()</tt> method, supplying the delimiter as an argument to the method. If you don't supply any delimiter the method will split the string on whitespace by default (which is very often what you want!)\n",
        "\n",
        "To split a string into its component characters you can simply _cast_ the string to a list "
      ]
    },
    {
      "metadata": {
        "id": "yqpZJVwY2DE4",
        "colab_type": "code",
        "outputId": "84ddd4af-9d32-402d-8747-329c495d1e22",
        "colab": {
          "base_uri": "https://localhost:8080/",
          "height": 51
        }
      },
      "cell_type": "code",
      "source": [
        "seq = \"ATG TCA CCG GGC\"\n",
        "codons = seq.split(\" \")\n",
        "print(codons)\n",
        "\n",
        "bases = list(seq) # a tuple of character converted into a list\n",
        "print(bases)"
      ],
      "execution_count": 0,
      "outputs": [
        {
          "output_type": "stream",
          "text": [
            "['ATG', 'TCA', 'CCG', 'GGC']\n",
            "['A', 'T', 'G', ' ', 'T', 'C', 'A', ' ', 'C', 'C', 'G', ' ', 'G', 'G', 'C']\n"
          ],
          "name": "stdout"
        }
      ]
    },
    {
      "metadata": {
        "id": "5w_bK8RC2DFA",
        "colab_type": "text"
      },
      "cell_type": "markdown",
      "source": [
        "<tt>.split()</tt> is the counterpart to the <tt>.join()</tt> method that lets you join the elements of a list into a string only if all the elements are of type String:"
      ]
    },
    {
      "metadata": {
        "id": "NzyY-gfi2DFD",
        "colab_type": "code",
        "outputId": "4803237d-b140-480a-a99d-d8b3c85b2734",
        "colab": {
          "base_uri": "https://localhost:8080/",
          "height": 51
        }
      },
      "cell_type": "code",
      "source": [
        "seq = \"ATG TCA CCG GGC\"\n",
        "codons = seq.split(\" \")\n",
        "print(codons)\n",
        "print(\"|\".join(codons))"
      ],
      "execution_count": 0,
      "outputs": [
        {
          "output_type": "stream",
          "text": [
            "['ATG', 'TCA', 'CCG', 'GGC']\n",
            "ATG|TCA|CCG|GGC\n"
          ],
          "name": "stdout"
        }
      ]
    },
    {
      "metadata": {
        "id": "wkOrmEH62DFJ",
        "colab_type": "text"
      },
      "cell_type": "markdown",
      "source": [
        "We also saw earlier that the <tt>+</tt> operator lets you concatenate strings together into a larger string.\n",
        "\n",
        "Note that this operator only works on variables of the same type. If you want to concatenate a string with an integer (or some other type), first you have to cast the integer to a string with the <tt>str()</tt> function."
      ]
    },
    {
      "metadata": {
        "id": "IYTvrlgg2DFM",
        "colab_type": "code",
        "outputId": "58ed0f83-1b09-47de-b9e5-2623a02c747f",
        "colab": {
          "base_uri": "https://localhost:8080/",
          "height": 34
        }
      },
      "cell_type": "code",
      "source": [
        "s = \"chr\"\n",
        "chrom_number = 2\n",
        "print(s + str(chrom_number))"
      ],
      "execution_count": 0,
      "outputs": [
        {
          "output_type": "stream",
          "text": [
            "chr2\n"
          ],
          "name": "stdout"
        }
      ]
    },
    {
      "metadata": {
        "id": "i5p_TKcC2DFV",
        "colab_type": "text"
      },
      "cell_type": "markdown",
      "source": [
        "To get more information about these two methods `split()` and `join()` we could find it online in the Python documentation starting from [www.python.org](http://www.python.org) or get help using the `help()` builtin function."
      ]
    },
    {
      "metadata": {
        "id": "DR5gNE__2DFX",
        "colab_type": "code",
        "colab": {}
      },
      "cell_type": "code",
      "source": [
        "help(str.split)\n",
        "help(str.join)"
      ],
      "execution_count": 0,
      "outputs": []
    },
    {
      "metadata": {
        "id": "qaELNrSa2DFg",
        "colab_type": "text"
      },
      "cell_type": "markdown",
      "source": [
        "## Exercise 1.3.2\n",
        "\n",
        "1. Create a string variable with your full name in it, with your first and last name (and any middle names) seperated by a space. Split the string into a list, and print out your surname.\n",
        "2. Check if your surname contains the letter \"E\", and print out the position of this letter in the string. Try a few other letters."
      ]
    },
    {
      "metadata": {
        "id": "_Nph7gca2DFi",
        "colab_type": "text"
      },
      "cell_type": "markdown",
      "source": [
        "# Part 1.4: Sets and dictionaries\n",
        "\n",
        "-------\n",
        "\n",
        " - Sets\n",
        " - Dictionaries"
      ]
    },
    {
      "metadata": {
        "id": "7bo8bOkM2DFm",
        "colab_type": "text"
      },
      "cell_type": "markdown",
      "source": [
        "## Sets\n",
        "\n",
        "- Sets contain unique elements, i.e. no repeats are allowed\n",
        "- The elements in a set do not have an order\n",
        "- Sets cannot contain elements which can be internally modified (e.g. lists and dictionaries)"
      ]
    },
    {
      "metadata": {
        "id": "F2oETh_x2DFp",
        "colab_type": "code",
        "outputId": "9af40a03-206f-4da8-dda6-6a066a9084dc",
        "colab": {
          "base_uri": "https://localhost:8080/",
          "height": 51
        }
      },
      "cell_type": "code",
      "source": [
        "l = [1, 2, 3, 2, 3] # list of 5 values\n",
        "s = set(l) # set of 3 unique values\n",
        "print(s)\n",
        "e = set() # empty set\n",
        "print(e)"
      ],
      "execution_count": 0,
      "outputs": [
        {
          "output_type": "stream",
          "text": [
            "{1, 2, 3}\n",
            "set()\n"
          ],
          "name": "stdout"
        }
      ]
    },
    {
      "metadata": {
        "id": "fqYzq4M72DF1",
        "colab_type": "text"
      },
      "cell_type": "markdown",
      "source": [
        "Sets are very similar to lists and tuples and you can use many of the same operators and functions, except they are **inherently unordered**, so they don't have an index, and can only contain _unique_ values, so adding a value already in the set will have no effect"
      ]
    },
    {
      "metadata": {
        "id": "9eAEkk9r2DF4",
        "colab_type": "code",
        "outputId": "b1d1cb9c-05e8-4a23-de68-ba8c205a3348",
        "colab": {
          "base_uri": "https://localhost:8080/",
          "height": 85
        }
      },
      "cell_type": "code",
      "source": [
        "s = set([1, 2, 3, 2, 3])\n",
        "print(s)\n",
        "print(\"number in set:\", len(s))\n",
        "s.add(4)\n",
        "print(s)\n",
        "s.add(3)\n",
        "print(s)"
      ],
      "execution_count": 0,
      "outputs": [
        {
          "output_type": "stream",
          "text": [
            "{1, 2, 3}\n",
            "number in set: 3\n",
            "{1, 2, 3, 4}\n",
            "{1, 2, 3, 4}\n"
          ],
          "name": "stdout"
        }
      ]
    },
    {
      "metadata": {
        "id": "szocy9_k2DF-",
        "colab_type": "text"
      },
      "cell_type": "markdown",
      "source": [
        "You can remove specific elements from the set."
      ]
    },
    {
      "metadata": {
        "id": "wpolzRSJ2DGC",
        "colab_type": "code",
        "outputId": "1734fd18-27e7-45e8-d0a7-78773baf4adc",
        "colab": {
          "base_uri": "https://localhost:8080/",
          "height": 51
        }
      },
      "cell_type": "code",
      "source": [
        "s = set([1, 2, 3, 2, 3])\n",
        "print(s)\n",
        "s.remove(3)\n",
        "print(s)"
      ],
      "execution_count": 0,
      "outputs": [
        {
          "output_type": "stream",
          "text": [
            "{1, 2, 3}\n",
            "{1, 2}\n"
          ],
          "name": "stdout"
        }
      ]
    },
    {
      "metadata": {
        "id": "0ze9faK92DGH",
        "colab_type": "text"
      },
      "cell_type": "markdown",
      "source": [
        "You can do all the expected logical operations on sets, such as taking the union or intersection of 2 sets with the <tt>|</tt> _or_ and <tt>&</tt> _and_ operators "
      ]
    },
    {
      "metadata": {
        "id": "FX9TWLuX2DGI",
        "colab_type": "code",
        "outputId": "16237403-ceca-4bfb-d7bd-7eb65408bc48",
        "colab": {
          "base_uri": "https://localhost:8080/",
          "height": 51
        }
      },
      "cell_type": "code",
      "source": [
        "s1 = set([2, 4, 6, 8, 10])\n",
        "s2 = set([4, 5, 6, 7])\n",
        "\n",
        "print(\"Union:\", s1 | s2)\n",
        "print(\"Intersection:\", s1 & s2)"
      ],
      "execution_count": 0,
      "outputs": [
        {
          "output_type": "stream",
          "text": [
            "Union: {2, 4, 5, 6, 7, 8, 10}\n",
            "Intersection: {4, 6}\n"
          ],
          "name": "stdout"
        }
      ]
    },
    {
      "metadata": {
        "id": "FfNIGLfU2DGL",
        "colab_type": "text"
      },
      "cell_type": "markdown",
      "source": [
        "## Exercise 1.4.1\n",
        "\n",
        "1. Given the protein sequence \"MPISEPTFFEIF\", split the sequence into its component amino acid codes and use a set to establish the unique amino acids in the protein and print out the result."
      ]
    },
    {
      "metadata": {
        "id": "c3OzBlfm2DGN",
        "colab_type": "text"
      },
      "cell_type": "markdown",
      "source": [
        "## Dictionaries\n",
        "\n",
        "Lists are useful in many contexts, but often we have some data that has no inherent order and that we want to access by some useful name rather than an index. For example, as a result of some experiment we may have a set of genes and corresponding expression values. We could put the expression values in a list, but then we'd have to remember which index in the list corresponded to which gene and this would quickly get complicated.\n",
        "\n",
        "For these situations a _dictionary_ is a very useful data structure.\n",
        "\n",
        "Dictionaries:\n",
        "\n",
        "- Contain a mapping of keys to values (like a word and its corresponding definition in a dictionary)\n",
        "- The keys of a dictionary are unique, i.e. they cannot repeat\n",
        "- The values of a dictionary can be of any data type\n",
        "- The keys of a dictionary cannot be an internally modifiable type (e.g. lists, but you can use tuples)\n",
        "- Dictionaries do not store data in any particular order"
      ]
    },
    {
      "metadata": {
        "id": "ikCfsfx12DGO",
        "colab_type": "code",
        "outputId": "777ac1ee-24e7-428e-88b5-2a105b457832",
        "colab": {
          "base_uri": "https://localhost:8080/",
          "height": 34
        }
      },
      "cell_type": "code",
      "source": [
        "dna = {\"A\": \"Adenine\", \"C\": \"Cytosine\", \"G\": \"Guanine\", \"T\": \"Thymine\"}\n",
        "print(dna)"
      ],
      "execution_count": 0,
      "outputs": [
        {
          "output_type": "stream",
          "text": [
            "{'A': 'Adenine', 'C': 'Cytosine', 'G': 'Guanine', 'T': 'Thymine'}\n"
          ],
          "name": "stdout"
        }
      ]
    },
    {
      "metadata": {
        "id": "XgIVfNsj2DGU",
        "colab_type": "text"
      },
      "cell_type": "markdown",
      "source": [
        "You can access values in a dictionary using the key inside square brackets"
      ]
    },
    {
      "metadata": {
        "id": "oUULiZFW2DGe",
        "colab_type": "code",
        "outputId": "f7bd4306-ae54-44ce-ac12-5c737a087b32",
        "colab": {
          "base_uri": "https://localhost:8080/",
          "height": 51
        }
      },
      "cell_type": "code",
      "source": [
        "dna = {\"A\": \"Adenine\", \"C\": \"Cytosine\", \"G\": \"Guanine\", \"T\": \"Thymine\"}\n",
        "print(\"A represents\", dna[\"A\"])\n",
        "print(\"G represents\", dna[\"G\"])"
      ],
      "execution_count": 0,
      "outputs": [
        {
          "output_type": "stream",
          "text": [
            "A represents Adenine\n",
            "G represents Guanine\n"
          ],
          "name": "stdout"
        }
      ]
    },
    {
      "metadata": {
        "id": "7uOI98GE2DGl",
        "colab_type": "text"
      },
      "cell_type": "markdown",
      "source": [
        "An error is triggered if a key is absent from the dictionary:"
      ]
    },
    {
      "metadata": {
        "id": "dNbQZC_92DGo",
        "colab_type": "code",
        "outputId": "758b5e27-5f92-44e5-b80a-10e61bbe46ef",
        "colab": {
          "base_uri": "https://localhost:8080/",
          "height": 181
        }
      },
      "cell_type": "code",
      "source": [
        "dna = {\"A\": \"Adenine\", \"C\": \"Cytosine\", \"G\": \"Guanine\", \"T\": \"Thymine\"}\n",
        "print(\"What about N?\", dna[\"N\"])"
      ],
      "execution_count": 0,
      "outputs": [
        {
          "output_type": "error",
          "ename": "KeyError",
          "evalue": "ignored",
          "traceback": [
            "\u001b[0;31m---------------------------------------------------------------------------\u001b[0m",
            "\u001b[0;31mKeyError\u001b[0m                                  Traceback (most recent call last)",
            "\u001b[0;32m<ipython-input-64-8300010def4c>\u001b[0m in \u001b[0;36m<module>\u001b[0;34m()\u001b[0m\n\u001b[1;32m      1\u001b[0m \u001b[0mdna\u001b[0m \u001b[0;34m=\u001b[0m \u001b[0;34m{\u001b[0m\u001b[0;34m\"A\"\u001b[0m\u001b[0;34m:\u001b[0m \u001b[0;34m\"Adenine\"\u001b[0m\u001b[0;34m,\u001b[0m \u001b[0;34m\"C\"\u001b[0m\u001b[0;34m:\u001b[0m \u001b[0;34m\"Cytosine\"\u001b[0m\u001b[0;34m,\u001b[0m \u001b[0;34m\"G\"\u001b[0m\u001b[0;34m:\u001b[0m \u001b[0;34m\"Guanine\"\u001b[0m\u001b[0;34m,\u001b[0m \u001b[0;34m\"T\"\u001b[0m\u001b[0;34m:\u001b[0m \u001b[0;34m\"Thymine\"\u001b[0m\u001b[0;34m}\u001b[0m\u001b[0;34m\u001b[0m\u001b[0;34m\u001b[0m\u001b[0m\n\u001b[0;32m----> 2\u001b[0;31m \u001b[0mprint\u001b[0m\u001b[0;34m(\u001b[0m\u001b[0;34m\"What about N?\"\u001b[0m\u001b[0;34m,\u001b[0m \u001b[0mdna\u001b[0m\u001b[0;34m[\u001b[0m\u001b[0;34m\"N\"\u001b[0m\u001b[0;34m]\u001b[0m\u001b[0;34m)\u001b[0m\u001b[0;34m\u001b[0m\u001b[0;34m\u001b[0m\u001b[0m\n\u001b[0m",
            "\u001b[0;31mKeyError\u001b[0m: 'N'"
          ]
        }
      ]
    },
    {
      "metadata": {
        "id": "2Ds84oZc2DGt",
        "colab_type": "text"
      },
      "cell_type": "markdown",
      "source": [
        "You can access values safely with the <tt>get</tt> method, which gives back <tt>None</tt> if the key is absent and you can also supply a default values"
      ]
    },
    {
      "metadata": {
        "id": "tzgNDn8l2DGu",
        "colab_type": "code",
        "outputId": "b3076e46-2eb3-459b-c7ff-68d31c882ffe",
        "colab": {
          "base_uri": "https://localhost:8080/",
          "height": 51
        }
      },
      "cell_type": "code",
      "source": [
        "dna = {\"A\": \"Adenine\", \"C\": \"Cytosine\", \"G\": \"Guanine\", \"T\": \"Thymine\"}\n",
        "print(\"What about N?\", dna.get(\"N\"))\n",
        "print(\"With a default value:\", dna.get(\"N\", \"unknown\"))"
      ],
      "execution_count": 0,
      "outputs": [
        {
          "output_type": "stream",
          "text": [
            "What about N? None\n",
            "With a default value: unknown\n"
          ],
          "name": "stdout"
        }
      ]
    },
    {
      "metadata": {
        "id": "BL9eyzl52DGz",
        "colab_type": "text"
      },
      "cell_type": "markdown",
      "source": [
        "You can check if a key is in a dictionary with the <tt>in</tt> operator, and you can negate this with <tt>not</tt>"
      ]
    },
    {
      "metadata": {
        "id": "j0C3fjeE2DG1",
        "colab_type": "code",
        "outputId": "4497b257-3ca0-408e-f6ff-e3ae192b1abb",
        "colab": {
          "base_uri": "https://localhost:8080/",
          "height": 34
        }
      },
      "cell_type": "code",
      "source": [
        "dna = {\"A\": \"Adenine\", \"C\": \"Cytosine\", \"G\": \"Guanine\", \"T\": \"Thymine\"}\n",
        "\"T\" in dna"
      ],
      "execution_count": 0,
      "outputs": [
        {
          "output_type": "execute_result",
          "data": {
            "text/plain": [
              "True"
            ]
          },
          "metadata": {
            "tags": []
          },
          "execution_count": 66
        }
      ]
    },
    {
      "metadata": {
        "id": "NMIgFeP82DG6",
        "colab_type": "code",
        "outputId": "825e99f6-e0f2-4c53-ca7e-ac22d30043a3",
        "colab": {
          "base_uri": "https://localhost:8080/",
          "height": 34
        }
      },
      "cell_type": "code",
      "source": [
        "dna = {\"A\": \"Adenine\", \"C\": \"Cytosine\", \"G\": \"Guanine\", \"T\": \"Thymine\"}\n",
        "\"Y\" not in dna"
      ],
      "execution_count": 0,
      "outputs": [
        {
          "output_type": "execute_result",
          "data": {
            "text/plain": [
              "True"
            ]
          },
          "metadata": {
            "tags": []
          },
          "execution_count": 67
        }
      ]
    },
    {
      "metadata": {
        "id": "rawkGH_q2DG_",
        "colab_type": "text"
      },
      "cell_type": "markdown",
      "source": [
        "The <tt>len()</tt> function gives back the number of (key, value) pairs in the dictionary:"
      ]
    },
    {
      "metadata": {
        "id": "_6VIqsqY2DHA",
        "colab_type": "code",
        "outputId": "54e833c6-b44a-446f-e583-2a2ba3a8a0ef",
        "colab": {
          "base_uri": "https://localhost:8080/",
          "height": 34
        }
      },
      "cell_type": "code",
      "source": [
        "dna = {\"A\": \"Adenine\", \"C\": \"Cytosine\", \"G\": \"Guanine\", \"T\": \"Thymine\"}\n",
        "print(len(dna))"
      ],
      "execution_count": 0,
      "outputs": [
        {
          "output_type": "stream",
          "text": [
            "4\n"
          ],
          "name": "stdout"
        }
      ]
    },
    {
      "metadata": {
        "id": "CUWEWLJL2DHR",
        "colab_type": "text"
      },
      "cell_type": "markdown",
      "source": [
        "You can introduce new entries in the dictionary by assigning a value with a new key:"
      ]
    },
    {
      "metadata": {
        "id": "EaeTUTJ_2DHR",
        "colab_type": "code",
        "outputId": "a3a4727a-6130-424c-9ed0-9709e5851314",
        "colab": {
          "base_uri": "https://localhost:8080/",
          "height": 34
        }
      },
      "cell_type": "code",
      "source": [
        "dna = {\"A\": \"Adenine\", \"C\": \"Cytosine\", \"G\": \"Guanine\", \"T\": \"Thymine\"}\n",
        "dna['Y'] = 'Pyrimidine'\n",
        "print(dna)"
      ],
      "execution_count": 0,
      "outputs": [
        {
          "output_type": "stream",
          "text": [
            "{'A': 'Adenine', 'C': 'Cytosine', 'G': 'Guanine', 'T': 'Thymine', 'Y': 'Pyrimidine'}\n"
          ],
          "name": "stdout"
        }
      ]
    },
    {
      "metadata": {
        "id": "J8z64nqQ2DHV",
        "colab_type": "text"
      },
      "cell_type": "markdown",
      "source": [
        "You can change the value for an existing key by reassigning it:"
      ]
    },
    {
      "metadata": {
        "id": "otfSRdlv2DHW",
        "colab_type": "code",
        "outputId": "fa54b0c6-9bd1-4569-a24d-ad18b6ec6474",
        "colab": {
          "base_uri": "https://localhost:8080/",
          "height": 34
        }
      },
      "cell_type": "code",
      "source": [
        "dna = {'A': 'Adenine', 'C': 'Cytosine', 'T': 'Thymine', 'G': 'Guanine', 'Y': 'Pyrimidine'}\n",
        "dna['Y'] = 'Cytosine or Thymine'\n",
        "print(dna)"
      ],
      "execution_count": 0,
      "outputs": [
        {
          "output_type": "stream",
          "text": [
            "{'A': 'Adenine', 'C': 'Cytosine', 'T': 'Thymine', 'G': 'Guanine', 'Y': 'Cytosine or Thymine'}\n"
          ],
          "name": "stdout"
        }
      ]
    },
    {
      "metadata": {
        "id": "kJICBBzw2DHa",
        "colab_type": "text"
      },
      "cell_type": "markdown",
      "source": [
        "You can delete entries from the dictionary:"
      ]
    },
    {
      "metadata": {
        "id": "bDaT_NMv2DHe",
        "colab_type": "code",
        "outputId": "73f9ad38-e0c8-4328-9e39-89bee5847fdd",
        "colab": {
          "base_uri": "https://localhost:8080/",
          "height": 34
        }
      },
      "cell_type": "code",
      "source": [
        "dna = {'A': 'Adenine', 'C': 'Cytosine', 'T': 'Thymine', 'G': 'Guanine', 'Y': 'Pyrimidine'}\n",
        "del dna['Y']\n",
        "print(dna)"
      ],
      "execution_count": 0,
      "outputs": [
        {
          "output_type": "stream",
          "text": [
            "{'A': 'Adenine', 'C': 'Cytosine', 'T': 'Thymine', 'G': 'Guanine'}\n"
          ],
          "name": "stdout"
        }
      ]
    },
    {
      "metadata": {
        "id": "bUJpvqc22DHi",
        "colab_type": "text"
      },
      "cell_type": "markdown",
      "source": [
        "You can get a list of all the keys (in arbitrary order) using the inbuilt <tt>.keys()</tt> function"
      ]
    },
    {
      "metadata": {
        "id": "kJ8Va4pO2DHj",
        "colab_type": "code",
        "outputId": "d926b945-95ea-478a-c560-1f70e45d77eb",
        "colab": {
          "base_uri": "https://localhost:8080/",
          "height": 34
        }
      },
      "cell_type": "code",
      "source": [
        "dna = {'A': 'Adenine', 'C': 'Cytosine', 'T': 'Thymine', 'G': 'Guanine', 'Y': 'Pyrimidine'}\n",
        "print(list(dna.keys()))"
      ],
      "execution_count": 0,
      "outputs": [
        {
          "output_type": "stream",
          "text": [
            "['A', 'C', 'T', 'G', 'Y']\n"
          ],
          "name": "stdout"
        }
      ]
    },
    {
      "metadata": {
        "id": "2xslJTp32DHp",
        "colab_type": "text"
      },
      "cell_type": "markdown",
      "source": [
        "And equivalently get a list of the values:"
      ]
    },
    {
      "metadata": {
        "id": "j2E0W9Ve2DHq",
        "colab_type": "code",
        "outputId": "a51522ec-01e7-4bf8-8cd8-a55f3a0bd3b3",
        "colab": {
          "base_uri": "https://localhost:8080/",
          "height": 34
        }
      },
      "cell_type": "code",
      "source": [
        "dna = {'A': 'Adenine', 'C': 'Cytosine', 'T': 'Thymine', 'G': 'Guanine', 'Y': 'Pyrimidine'}\n",
        "print(list(dna.values()))"
      ],
      "execution_count": 0,
      "outputs": [
        {
          "output_type": "stream",
          "text": [
            "['Adenine', 'Cytosine', 'Thymine', 'Guanine', 'Pyrimidine']\n"
          ],
          "name": "stdout"
        }
      ]
    },
    {
      "metadata": {
        "id": "nIMbXS1p2DHt",
        "colab_type": "text"
      },
      "cell_type": "markdown",
      "source": [
        "And a list of tuples containing (key, value) pairs:"
      ]
    },
    {
      "metadata": {
        "id": "j_uVZhU32DHv",
        "colab_type": "code",
        "outputId": "d3c69e65-80ca-49ae-9fbd-81b65b9a61fc",
        "colab": {
          "base_uri": "https://localhost:8080/",
          "height": 34
        }
      },
      "cell_type": "code",
      "source": [
        "dna = {'A': 'Adenine', 'C': 'Cytosine', 'T': 'Thymine', 'G': 'Guanine', 'Y': 'Pyrimidine'}\n",
        "print(list(dna.items()))"
      ],
      "execution_count": 0,
      "outputs": [
        {
          "output_type": "stream",
          "text": [
            "[('A', 'Adenine'), ('C', 'Cytosine'), ('T', 'Thymine'), ('G', 'Guanine'), ('Y', 'Pyrimidine')]\n"
          ],
          "name": "stdout"
        }
      ]
    },
    {
      "metadata": {
        "id": "EYWO7XtX2DHy",
        "colab_type": "text"
      },
      "cell_type": "markdown",
      "source": [
        "## Exercises 1.4.2\n",
        "\n",
        "1. Print out the names of the amino acids that would be produced by the DNA sequence \"GTT GCA CCA CAA CCG\" ([See the DNA codon table](https://en.wikipedia.org/wiki/DNA_codon_table)). Split this string into the individual codons and then use a dictionary to map between codon sequences and the amino acids they encode.\n",
        "2. Print each codon and its corresponding amino acid.\n",
        "3. Why couldn't we build a dictionary where the keys are names of amino acids and the values are the DNA codons?\n",
        "\n",
        "### Advanced exercise 1.4.3\n",
        "\n",
        "- Starting with an empty dictionary, count the abundance of different residue types present in the 1-letter lysozyme protein sequence (http://www.uniprot.org/uniprot/B2R4C5.fasta) and print the results to the screen in alphabetical key order."
      ]
    },
    {
      "metadata": {
        "id": "PI-2Z3WG2DHz",
        "colab_type": "code",
        "colab": {}
      },
      "cell_type": "code",
      "source": [
        ""
      ],
      "execution_count": 0,
      "outputs": []
    }
  ]
}